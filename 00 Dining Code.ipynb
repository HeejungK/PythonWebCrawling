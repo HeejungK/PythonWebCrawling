{
 "cells": [
  {
   "cell_type": "markdown",
   "metadata": {},
   "source": [
    "# Dining Code"
   ]
  },
  {
   "cell_type": "markdown",
   "metadata": {},
   "source": [
    "- 아래 링크로 접속하여 화면 상단에 있는 검색창에 관심 있는 메뉴로 검색한 첫 페이지를 수집합니다.\n",
    "- 링크 : https://www.diningcode.com/"
   ]
  },
  {
   "cell_type": "markdown",
   "metadata": {},
   "source": [
    "### HTTP 요청 실행"
   ]
  },
  {
   "cell_type": "raw",
   "metadata": {},
   "source": [
    "# 관련 라이브러리를 설치합니다.\n",
    "# !pip install requests"
   ]
  },
  {
   "cell_type": "code",
   "execution_count": null,
   "metadata": {},
   "outputs": [],
   "source": [
    "# 관련 라이브러리를 호출합니다.\n",
    "import requests"
   ]
  },
  {
   "cell_type": "code",
   "execution_count": null,
   "metadata": {},
   "outputs": [],
   "source": [
    "# 요청 URL을 설정합니다.\n",
    "url = 'https://www.diningcode.com/list.php'"
   ]
  },
  {
   "cell_type": "code",
   "execution_count": null,
   "metadata": {
    "scrolled": true
   },
   "outputs": [],
   "source": [
    "# 검색어 설정합니다.\n",
    "searchWord = '낙지탕탕이'"
   ]
  },
  {
   "cell_type": "code",
   "execution_count": null,
   "metadata": {},
   "outputs": [],
   "source": [
    "# URL 인코딩 처리 결과를 확인합니다.\n",
    "# [참고] 사이트마다 한글 인코딩 방식이 다르며, 이 사이트는 한글로 검색할 수 있습니다.\n",
    "requests.utils.quote(string = searchWord)"
   ]
  },
  {
   "cell_type": "code",
   "execution_count": null,
   "metadata": {},
   "outputs": [],
   "source": [
    "# Query String을 딕셔너리로 생성합니다.\n",
    "# [참고] 파라미터가 2개 이상이면 콤마로 연결합니다.\n",
    "query = {\n",
    "    'query': searchWord\n",
    "}"
   ]
  },
  {
   "cell_type": "code",
   "execution_count": null,
   "metadata": {},
   "outputs": [],
   "source": [
    "# 요청 헤더를 딕셔너리로 설정합니다.\n",
    "headers = {\n",
    "    'user-agent': 'Mozilla/5.0 Chrome/99.0.4844.83 Safari/537.36'\n",
    "}"
   ]
  },
  {
   "cell_type": "code",
   "execution_count": null,
   "metadata": {},
   "outputs": [],
   "source": [
    "# HTTP 요청을 실행합니다.\n",
    "res = requests.get(url = url, params = query, headers = headers)"
   ]
  },
  {
   "cell_type": "markdown",
   "metadata": {},
   "source": [
    "### HTTP 응답 확인"
   ]
  },
  {
   "cell_type": "code",
   "execution_count": null,
   "metadata": {},
   "outputs": [],
   "source": [
    "# HTTP 응답 상태코드를 확인합니다. [참고] 200이면 정상입니다.\n",
    "res.status_code"
   ]
  },
  {
   "cell_type": "code",
   "execution_count": null,
   "metadata": {},
   "outputs": [],
   "source": [
    "# HTTP 응답 헤더를 확인합니다. [참고] Content-Type이 'html'입니다.\n",
    "res.headers"
   ]
  },
  {
   "cell_type": "code",
   "execution_count": null,
   "metadata": {},
   "outputs": [],
   "source": [
    "# HTTP 요청 URL만 확인합니다. [참고] 요청 URL을 웹 브라우저에서 실행했을 때 화면이 열려야 정상입니다.\n",
    "res.url"
   ]
  },
  {
   "cell_type": "code",
   "execution_count": null,
   "metadata": {},
   "outputs": [],
   "source": [
    "# HTTP 응답 바디를 문자열(str)로 출력합니다.\n",
    "res.text"
   ]
  },
  {
   "cell_type": "code",
   "execution_count": null,
   "metadata": {},
   "outputs": [],
   "source": [
    "# res.text의 클래스를 확인합니다.\n",
    "type(res.text)"
   ]
  },
  {
   "cell_type": "code",
   "execution_count": null,
   "metadata": {},
   "outputs": [],
   "source": [
    "# HTTP 응답 바디의 글자수를 확인합니다.\n",
    "len(res.text)"
   ]
  },
  {
   "cell_type": "markdown",
   "metadata": {},
   "source": [
    "### 필요한 데이터 수집\n",
    "\n",
    "- HTTP 응답 Body는 str이지만, 필요한 데이터만 선택하려면 HTML로 변경해야 합니다.\n",
    "- HTML Parsing은 구문을 분석하여 트리 구조를 생성하는 것을 의미합니다."
   ]
  },
  {
   "cell_type": "markdown",
   "metadata": {},
   "source": [
    "### HTML 파싱(Parsing)"
   ]
  },
  {
   "cell_type": "code",
   "execution_count": null,
   "metadata": {},
   "outputs": [],
   "source": [
    "# 관련 라이브러리를 호출합니다.\n",
    "from bs4 import BeautifulSoup as bts"
   ]
  },
  {
   "cell_type": "code",
   "execution_count": null,
   "metadata": {},
   "outputs": [],
   "source": [
    "# str 자료형을 bs4.BeautifulSoup 자료형으로 변환합니다.\n",
    "# [참고] bs4.BeautifulSoup 자료형으로 변환되면 HTML 요소를 쉽게 찾을 수 있습니다.\n",
    "soup = bts(markup = res.text, features = 'html.parser')"
   ]
  },
  {
   "cell_type": "code",
   "execution_count": null,
   "metadata": {},
   "outputs": [],
   "source": [
    "# soup을 출력합니다.\n",
    "soup"
   ]
  },
  {
   "cell_type": "code",
   "execution_count": null,
   "metadata": {},
   "outputs": [],
   "source": [
    "# soup의 클래스를 확인합니다.\n",
    "type(soup)"
   ]
  },
  {
   "cell_type": "markdown",
   "metadata": {},
   "source": [
    "### HTML의 텍스트를 리스트로 저장하는 사용자 정의 함수 생성"
   ]
  },
  {
   "cell_type": "code",
   "execution_count": null,
   "metadata": {},
   "outputs": [],
   "source": [
    "# 식당의 기본 정보를 포함하는 HTML 요소를 선택하고 items에 할당합니다.\n",
    "# [참고] select() 방식에 css selector를 지정하면 해당 HTML 요소만 선택합니다.\n",
    "# [참고] HTML 요소는 크롬 개발자도구의 Elements 탭에서 찾습니다.\n",
    "items = soup.select(selector = 'ul#div_list > li > a')"
   ]
  },
  {
   "cell_type": "code",
   "execution_count": null,
   "metadata": {},
   "outputs": [],
   "source": [
    "# items의 길이를 확인합니다.\n",
    "len(items)"
   ]
  },
  {
   "cell_type": "code",
   "execution_count": null,
   "metadata": {},
   "outputs": [],
   "source": [
    "# items를 출력합니다.\n",
    "items"
   ]
  },
  {
   "cell_type": "code",
   "execution_count": null,
   "metadata": {},
   "outputs": [],
   "source": [
    "# items의 첫 번째 원소를 item에 할당합니다.\n",
    "item = items[0]"
   ]
  },
  {
   "cell_type": "code",
   "execution_count": null,
   "metadata": {},
   "outputs": [],
   "source": [
    "# item을 출력합니다.\n",
    "item"
   ]
  },
  {
   "cell_type": "code",
   "execution_count": null,
   "metadata": {},
   "outputs": [],
   "source": [
    "# 크롬 개발자도구에서 식당명을 포함하는 HTML 요소를 찾아 css에 할당합니다.\n",
    "css = 'span.btxt'"
   ]
  },
  {
   "cell_type": "code",
   "execution_count": null,
   "metadata": {},
   "outputs": [],
   "source": [
    "# item에서 css로 식당명을 선택합니다. [참고] 코드 실행 결과가 리스트로 반환됩니다.\n",
    "# 실제로는 bs4.element.ResultSet 자료형입니다.\n",
    "item.select(selector = css)"
   ]
  },
  {
   "cell_type": "code",
   "execution_count": null,
   "metadata": {},
   "outputs": [],
   "source": [
    "# 위 코드를 실행한 결과의 클래스를 확인합니다.\n",
    "type(item.select(selector = css))"
   ]
  },
  {
   "cell_type": "code",
   "execution_count": null,
   "metadata": {},
   "outputs": [],
   "source": [
    "# 위 코드를 실행한 결과의 첫 번째 원소를 선택합니다.\n",
    "item.select(selector = css)[0]"
   ]
  },
  {
   "cell_type": "code",
   "execution_count": null,
   "metadata": {},
   "outputs": [],
   "source": [
    "# 첫 번째 원소에서 텍스트만 반환합니다.\n",
    "# [참고] Tag.text 또는 Tag.get_text() 방식은 텍스트를 반환합니다.\n",
    "item.select(selector = css)[0].text"
   ]
  },
  {
   "cell_type": "code",
   "execution_count": null,
   "metadata": {},
   "outputs": [],
   "source": [
    "# for 반복문을 실행하여 items의 모든 원소에 포함된 식당명을 출력합니다.\n",
    "for item in items:\n",
    "    print(item.select(selector = css)[0].text)"
   ]
  },
  {
   "cell_type": "code",
   "execution_count": null,
   "metadata": {},
   "outputs": [],
   "source": [
    "# 리스트 컴프리헨션을 이용하여 items의 모든 원소에 포함된 식당명을 리스트로 반환합니다.\n",
    "[item.select(selector = css)[0].text for item in items]"
   ]
  },
  {
   "cell_type": "code",
   "execution_count": null,
   "metadata": {},
   "outputs": [],
   "source": [
    "# 리스트 컴프리헨션을 사용하여 HTML 요소의 텍스트를 반환하는 사용자 정의 함수를 생성합니다.\n",
    "# [참고] 사용자 정의 함수를 'getHtmlData.py' 파일로 저장하여 필요할 때마다 호출합니다.\n",
    "def getHtmlText(x, css):\n",
    "    return [i.select(selector = css)[0].text for i in x]"
   ]
  },
  {
   "cell_type": "markdown",
   "metadata": {},
   "source": [
    "### 식당의 기본 정보 수집"
   ]
  },
  {
   "cell_type": "code",
   "execution_count": null,
   "metadata": {},
   "outputs": [],
   "source": [
    "# 식당명을 리스트로 저장합니다.\n",
    "name = getHtmlText(x = items, css = 'span.btxt')\n",
    "print(name)"
   ]
  },
  {
   "cell_type": "code",
   "execution_count": null,
   "metadata": {},
   "outputs": [],
   "source": [
    "# 메뉴를 리스트로 저장합니다.\n",
    "menu = getHtmlText(x = items, css = 'span.stxt')\n",
    "print(menu)"
   ]
  },
  {
   "cell_type": "code",
   "execution_count": null,
   "metadata": {},
   "outputs": [],
   "source": [
    "# 한 줄 소개를 리스트로 저장합니다.\n",
    "feat = getHtmlText(x = items, css = 'span.ctxt')\n",
    "print(feat)"
   ]
  },
  {
   "cell_type": "code",
   "execution_count": null,
   "metadata": {},
   "outputs": [],
   "source": [
    "# 주소를 리스트로 저장합니다.\n",
    "# [참고] 주소를 포함하는 HTML 요소 'span.ctxt'가 중복됩니다.\n",
    "# 따라서 span:nth-child(5)로 지정해야 합니다.\n",
    "# 하지만 Python에서는 nth-of-type()을 대신 사용합니다.\n",
    "addr = getHtmlText(x = items, css = 'span:nth-of-type(5)')\n",
    "print(addr)"
   ]
  },
  {
   "cell_type": "code",
   "execution_count": null,
   "metadata": {},
   "outputs": [],
   "source": [
    "# 주소에서 상권만 별도로 선택하여 리스트로 저장합니다.\n",
    "# [참고] 상권은 i 태그에 포함되어 있습니다.\n",
    "area = getHtmlText(x = items, css = 'span:nth-of-type(5) > i')\n",
    "print(area)"
   ]
  },
  {
   "cell_type": "code",
   "execution_count": null,
   "metadata": {},
   "outputs": [],
   "source": [
    "# 주소를 포함하는 HTML 요소에서 i 태그만 삭제하여 items를 업데이트합니다.\n",
    "# [참고] decompose()는 해당 HTML 요소를 삭제한 결과를 재할당합니다.\n",
    "# [참고] decompose()는 None 출력, extract()는 삭제하는 태그 출력\n",
    "css = 'span:nth-of-type(5) > i'\n",
    "[item.select(selector = css)[0].decompose() for item in items]"
   ]
  },
  {
   "cell_type": "code",
   "execution_count": null,
   "metadata": {},
   "outputs": [],
   "source": [
    "# item을 출력하면 i 태그가 삭제된 것을 확인할 수 있습니다.\n",
    "item"
   ]
  },
  {
   "cell_type": "code",
   "execution_count": null,
   "metadata": {},
   "outputs": [],
   "source": [
    "# 주소를 리스트로 저장합니다.\n",
    "addr = getHtmlText(x = items, css = 'span:nth-of-type(5)')\n",
    "print(addr)"
   ]
  },
  {
   "cell_type": "markdown",
   "metadata": {},
   "source": [
    "### 식당의 평가 정보 수집"
   ]
  },
  {
   "cell_type": "code",
   "execution_count": null,
   "metadata": {},
   "outputs": [],
   "source": [
    "# 식당의 평가 정보를 포함하는 HTML 요소만 선택하고 rates에 할당합니다.\n",
    "rates = soup.select(selector = 'ul#div_list > li > p')"
   ]
  },
  {
   "cell_type": "code",
   "execution_count": null,
   "metadata": {},
   "outputs": [],
   "source": [
    "# rates의 길이를 확인합니다.\n",
    "len(rates)"
   ]
  },
  {
   "cell_type": "code",
   "execution_count": null,
   "metadata": {},
   "outputs": [],
   "source": [
    "# 하트 개수를 리스트로 저장합니다.\n",
    "favor = getHtmlText(x = rates, css = 'span.favor')\n",
    "print(favor)"
   ]
  },
  {
   "cell_type": "code",
   "execution_count": null,
   "metadata": {},
   "outputs": [],
   "source": [
    "# 리뷰 개수를 리스트로 저장합니다.\n",
    "review = getHtmlText(x = rates, css = 'span.review')\n",
    "print(review)"
   ]
  },
  {
   "cell_type": "code",
   "execution_count": null,
   "metadata": {},
   "outputs": [],
   "source": [
    "# 평가 점수를 리스트로 저장합니다.\n",
    "point = getHtmlText(x = rates, css = 'span.point')\n",
    "print(point)"
   ]
  },
  {
   "cell_type": "markdown",
   "metadata": {},
   "source": [
    "### 데이터프레임으로 저장"
   ]
  },
  {
   "cell_type": "code",
   "execution_count": null,
   "metadata": {},
   "outputs": [],
   "source": [
    "# 관련 라이브러리를 호출합니다.\n",
    "import pandas as pd"
   ]
  },
  {
   "cell_type": "code",
   "execution_count": null,
   "metadata": {},
   "outputs": [],
   "source": [
    "# 수집한 내용을 딕셔너리로 만들고, 데이터프레임을 생성합니다.\n",
    "df = pd.DataFrame(\n",
    "    data = {\n",
    "        '이름': name, \n",
    "        '메뉴': menu, \n",
    "        '특징': feat, \n",
    "        '상권': area, \n",
    "        '주소': addr, \n",
    "        '하트': favor, \n",
    "        '리뷰': review, \n",
    "        '점수': point\n",
    "    }\n",
    ")"
   ]
  },
  {
   "cell_type": "code",
   "execution_count": null,
   "metadata": {},
   "outputs": [],
   "source": [
    "# 데이터프레임을 출력합니다.\n",
    "df"
   ]
  },
  {
   "cell_type": "markdown",
   "metadata": {},
   "source": [
    "## End of Document"
   ]
  }
 ],
 "metadata": {
  "kernelspec": {
   "display_name": "Python 3 (ipykernel)",
   "language": "python",
   "name": "python3"
  },
  "language_info": {
   "codemirror_mode": {
    "name": "ipython",
    "version": 3
   },
   "file_extension": ".py",
   "mimetype": "text/x-python",
   "name": "python",
   "nbconvert_exporter": "python",
   "pygments_lexer": "ipython3",
   "version": "3.10.3"
  },
  "toc": {
   "base_numbering": 1,
   "nav_menu": {},
   "number_sections": true,
   "sideBar": true,
   "skip_h1_title": false,
   "title_cell": "Table of Contents",
   "title_sidebar": "Contents",
   "toc_cell": false,
   "toc_position": {},
   "toc_section_display": true,
   "toc_window_display": true
  },
  "varInspector": {
   "cols": {
    "lenName": 16,
    "lenType": 16,
    "lenVar": 40
   },
   "kernels_config": {
    "python": {
     "delete_cmd_postfix": "",
     "delete_cmd_prefix": "del ",
     "library": "var_list.py",
     "varRefreshCmd": "print(var_dic_list())"
    },
    "r": {
     "delete_cmd_postfix": ") ",
     "delete_cmd_prefix": "rm(",
     "library": "var_list.r",
     "varRefreshCmd": "cat(var_dic_list()) "
    }
   },
   "types_to_exclude": [
    "module",
    "function",
    "builtin_function_or_method",
    "instance",
    "_Feature"
   ],
   "window_display": false
  }
 },
 "nbformat": 4,
 "nbformat_minor": 4
}
