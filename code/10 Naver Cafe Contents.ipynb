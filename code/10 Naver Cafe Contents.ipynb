{
 "cells": [
  {
   "cell_type": "markdown",
   "metadata": {},
   "source": [
    "## 네이버 블로그에서 본문 수집"
   ]
  },
  {
   "cell_type": "markdown",
   "metadata": {},
   "source": [
    "### xlsx 파일 읽기"
   ]
  },
  {
   "cell_type": "code",
   "execution_count": null,
   "metadata": {},
   "outputs": [],
   "source": [
    "# 관련 라이브러리를 호출합니다.\n",
    "import os\n",
    "import pandas as pd"
   ]
  },
  {
   "cell_type": "code",
   "execution_count": null,
   "metadata": {},
   "outputs": [],
   "source": [
    "# 현재 작업경로를 확인합니다.\n",
    "os.getcwd()"
   ]
  },
  {
   "cell_type": "code",
   "execution_count": null,
   "metadata": {},
   "outputs": [],
   "source": [
    "# data 폴더로 작업경로를 변경합니다.\n",
    "os.chdir(path = '../data')"
   ]
  },
  {
   "cell_type": "code",
   "execution_count": null,
   "metadata": {},
   "outputs": [],
   "source": [
    "# 현재 작업경로에 저장된 폴더명과 파일명을 출력합니다.\n",
    "os.listdir()"
   ]
  },
  {
   "cell_type": "code",
   "execution_count": null,
   "metadata": {},
   "outputs": [],
   "source": [
    "# xlsx 파일을 읽고 데이터프레임을 생성합니다.\n",
    "cafe = pd.read_excel(io = 'Naver Cafe Links.xlsx')"
   ]
  },
  {
   "cell_type": "code",
   "execution_count": null,
   "metadata": {},
   "outputs": [],
   "source": [
    "# xlsx 파일의 처음 5행을 출력합니다.\n",
    "cafe.head()"
   ]
  },
  {
   "cell_type": "markdown",
   "metadata": {},
   "source": [
    "### HTTP 요청 실행"
   ]
  },
  {
   "cell_type": "markdown",
   "metadata": {},
   "source": [
    "- 네이버 카페글 링크는 아래 형태로 되어 있습니다.<br>\n",
    "    https://apis.naver.com/cafe-web/cafe-articleapi/cafes/{clubid}/articles/{articleid}"
   ]
  },
  {
   "cell_type": "code",
   "execution_count": null,
   "metadata": {},
   "outputs": [],
   "source": [
    "# 첫 번째 행의 clubid와 articleid를 각각 생성합니다.\n",
    "i = 1\n",
    "clubid = cafe['clubid'][i]\n",
    "articleid = cafe['articleid'][i]"
   ]
  },
  {
   "cell_type": "code",
   "execution_count": null,
   "metadata": {
    "scrolled": true
   },
   "outputs": [],
   "source": [
    "# 요청 URL을 조립합니다.\n",
    "URL = f'https://apis.naver.com/cafe-web/cafe-articleapi/cafes/{clubid}/articles/{articleid}'\n",
    "print(URL)"
   ]
  },
  {
   "cell_type": "code",
   "execution_count": null,
   "metadata": {},
   "outputs": [],
   "source": [
    "# 관련 라이브러리를 호출합니다.\n",
    "import requests"
   ]
  },
  {
   "cell_type": "code",
   "execution_count": null,
   "metadata": {},
   "outputs": [],
   "source": [
    "# HTTP 요청을 실행합니다. \n",
    "res = requests.get(\n",
    "    url = URL,\n",
    "    headers = dict(referer = 'https://section.cafe.naver.com/ca-fe/home/search/articles')\n",
    ")"
   ]
  },
  {
   "cell_type": "markdown",
   "metadata": {},
   "source": [
    "### HTTP 응답 확인"
   ]
  },
  {
   "cell_type": "code",
   "execution_count": null,
   "metadata": {},
   "outputs": [],
   "source": [
    "# HTTP 응답 상태코드를 확인합니다.\n",
    "res.status_code"
   ]
  },
  {
   "cell_type": "code",
   "execution_count": null,
   "metadata": {},
   "outputs": [],
   "source": [
    "# HTTP 응답 헤더를 확인합니다. [참고] Content-Type이 'json'입니다.\n",
    "res.headers"
   ]
  },
  {
   "cell_type": "code",
   "execution_count": null,
   "metadata": {
    "scrolled": true
   },
   "outputs": [],
   "source": [
    "# HTTP 요청 URL을 확인합니다.\n",
    "res.url"
   ]
  },
  {
   "cell_type": "code",
   "execution_count": null,
   "metadata": {},
   "outputs": [],
   "source": [
    "# HTTP 응답 바디(str)의 일부를 출력합니다.\n",
    "res.text[:1000]"
   ]
  },
  {
   "cell_type": "markdown",
   "metadata": {},
   "source": [
    "### JSON 데이터 처리"
   ]
  },
  {
   "cell_type": "code",
   "execution_count": null,
   "metadata": {},
   "outputs": [],
   "source": [
    "# 관련 라이브러리를 호출합니다.\n",
    "import json"
   ]
  },
  {
   "cell_type": "code",
   "execution_count": null,
   "metadata": {},
   "outputs": [],
   "source": [
    "# HTTP 응답 바디를 딕셔너리로 변환합니다. \n",
    "data = json.loads(s = res.text)"
   ]
  },
  {
   "cell_type": "code",
   "execution_count": null,
   "metadata": {},
   "outputs": [],
   "source": [
    "# data에서 카페글 본문을 body에 할당합니다.\n",
    "body = data['article']['content']\n",
    "body"
   ]
  },
  {
   "cell_type": "code",
   "execution_count": null,
   "metadata": {},
   "outputs": [],
   "source": [
    "# 관련 라이브러리를 호출합니다.\n",
    "import re"
   ]
  },
  {
   "cell_type": "code",
   "execution_count": null,
   "metadata": {},
   "outputs": [],
   "source": [
    "# 정규표현식으로 태그 등을 삭제합니다.\n",
    "pat = re.compile(r'<.+?>|\\[.+?\\]|\\]|&#8203;')\n",
    "text = re.sub(pattern = pat, repl = '', string = body)\n",
    "text"
   ]
  },
  {
   "cell_type": "markdown",
   "metadata": {},
   "source": [
    "### for 반복문 실행"
   ]
  },
  {
   "cell_type": "code",
   "execution_count": null,
   "metadata": {},
   "outputs": [],
   "source": [
    "# 관련 라이브러리를 호출합니다.\n",
    "import tqdm, time"
   ]
  },
  {
   "cell_type": "code",
   "execution_count": null,
   "metadata": {},
   "outputs": [],
   "source": [
    "# cafe의 행 길이를 설정합니다.(반복문 실행 횟수)\n",
    "n = cafe.shape[0]\n",
    "print(n)"
   ]
  },
  {
   "cell_type": "code",
   "execution_count": null,
   "metadata": {},
   "outputs": [],
   "source": [
    "# 카페글 본문을 저장할 contents 열을 생성하고 빈 문자열을 할당합니다.\n",
    "cafe['contents'] = ''"
   ]
  },
  {
   "cell_type": "code",
   "execution_count": null,
   "metadata": {
    "scrolled": false
   },
   "outputs": [],
   "source": [
    "# for 반복문을 실행합니다.\n",
    "for i in tqdm.tqdm_notebook(range(n)):\n",
    "    \n",
    "    # 각 행의 clubid와 articleid를 각각 생성합니다.\n",
    "    clubid = cafe['clubid'][i]\n",
    "    articleid = cafe['articleid'][i]\n",
    "    \n",
    "    # URL을 조립합니다.\n",
    "    URL = f'https://apis.naver.com/cafe-web/cafe-articleapi/cafes/{clubid}/articles/{articleid}'\n",
    "    \n",
    "    # HTTP 요청을 실행합니다. \n",
    "    res = requests.get(\n",
    "        url = URL,\n",
    "        headers = dict(referer = 'https://section.cafe.naver.com/ca-fe/home/search/articles')\n",
    "    )\n",
    "    \n",
    "    # HTTP 응답 바디를 딕셔너리로 변환합니다. \n",
    "    data = json.loads(s = res.text)\n",
    "    \n",
    "    # 카페글 본문이 없으면 에러가 발생하므로 예외처리합니다.\n",
    "    try:\n",
    "        \n",
    "        # data에서 카페글 본문을 body에 할당합니다.\n",
    "        body = data['article']['content']\n",
    "        \n",
    "        # 정규표현식으로 태그 등을 삭제합니다.\n",
    "        pat = re.compile(r'<.+?>|\\[.+?\\]|\\]|&#8203;')\n",
    "        text = re.sub(pattern = pat, repl = '', string = body)\n",
    "        \n",
    "    except:\n",
    "        \n",
    "        print(f'{i}번 카페글 본문이 없습니다!')\n",
    "        text = ''\n",
    "    \n",
    "    # contents 열에 text를 추가합니다.\n",
    "    cafe.loc[i, 'contents'] = text\n",
    "    \n",
    "    # 1초간 멈춥니다.\n",
    "    time.sleep(1)\n",
    "    "
   ]
  },
  {
   "cell_type": "code",
   "execution_count": null,
   "metadata": {},
   "outputs": [],
   "source": [
    "# cafe의 처음 5행을 출력합니다.\n",
    "cafe.head()"
   ]
  },
  {
   "cell_type": "code",
   "execution_count": null,
   "metadata": {},
   "outputs": [],
   "source": [
    "# cafe의 정보를 확인합니다.\n",
    "cafe.info()"
   ]
  },
  {
   "cell_type": "code",
   "execution_count": null,
   "metadata": {},
   "outputs": [],
   "source": [
    "# articleid와 clubid를 문자열로 변환합니다.\n",
    "cafe = cafe.astype({'articleid': 'str', 'clubid': 'str'})"
   ]
  },
  {
   "cell_type": "markdown",
   "metadata": {},
   "source": [
    "### xlsx 파일로 저장"
   ]
  },
  {
   "cell_type": "code",
   "execution_count": null,
   "metadata": {},
   "outputs": [],
   "source": [
    "# xlsx 파일명을 설정합니다.\n",
    "fileName = 'Naver Cafe Contents.xlsx'"
   ]
  },
  {
   "cell_type": "code",
   "execution_count": null,
   "metadata": {
    "scrolled": true
   },
   "outputs": [],
   "source": [
    "# xlsx 파일로 저장합니다.\n",
    "cafe.to_excel(excel_writer = fileName, index = None)"
   ]
  },
  {
   "cell_type": "markdown",
   "metadata": {},
   "source": [
    "# End of Document"
   ]
  }
 ],
 "metadata": {
  "kernelspec": {
   "display_name": "Python 3 (ipykernel)",
   "language": "python",
   "name": "python3"
  },
  "language_info": {
   "codemirror_mode": {
    "name": "ipython",
    "version": 3
   },
   "file_extension": ".py",
   "mimetype": "text/x-python",
   "name": "python",
   "nbconvert_exporter": "python",
   "pygments_lexer": "ipython3",
   "version": "3.10.3"
  },
  "toc": {
   "base_numbering": 1,
   "nav_menu": {},
   "number_sections": true,
   "sideBar": true,
   "skip_h1_title": false,
   "title_cell": "Table of Contents",
   "title_sidebar": "Contents",
   "toc_cell": false,
   "toc_position": {},
   "toc_section_display": true,
   "toc_window_display": false
  },
  "varInspector": {
   "cols": {
    "lenName": 16,
    "lenType": 16,
    "lenVar": 40
   },
   "kernels_config": {
    "python": {
     "delete_cmd_postfix": "",
     "delete_cmd_prefix": "del ",
     "library": "var_list.py",
     "varRefreshCmd": "print(var_dic_list())"
    },
    "r": {
     "delete_cmd_postfix": ") ",
     "delete_cmd_prefix": "rm(",
     "library": "var_list.r",
     "varRefreshCmd": "cat(var_dic_list()) "
    }
   },
   "types_to_exclude": [
    "module",
    "function",
    "builtin_function_or_method",
    "instance",
    "_Feature"
   ],
   "window_display": false
  }
 },
 "nbformat": 4,
 "nbformat_minor": 4
}
