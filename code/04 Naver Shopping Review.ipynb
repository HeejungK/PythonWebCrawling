{
 "cells": [
  {
   "cell_type": "markdown",
   "id": "acfb52ad",
   "metadata": {},
   "source": [
    "## 네이버 쇼핑 고객 리뷰 수집"
   ]
  },
  {
   "cell_type": "markdown",
   "id": "d61ddaa4",
   "metadata": {},
   "source": [
    "- 네이버 쇼핑에서 키워드로 검색(예: 스탠바이미)\n",
    "- 검색 결과 중 리뷰 개수가 많은 상품 선택<br>\n",
    "  https://search.shopping.naver.com/catalog/29938164618"
   ]
  },
  {
   "cell_type": "markdown",
   "id": "05d49e2e",
   "metadata": {},
   "source": [
    "### HTTP 요청 실행"
   ]
  },
  {
   "cell_type": "code",
   "execution_count": null,
   "id": "6c5e67c1",
   "metadata": {},
   "outputs": [],
   "source": [
    "# 관련 라이브러리를 호출합니다.\n",
    "import requests"
   ]
  },
  {
   "cell_type": "code",
   "execution_count": null,
   "id": "5ee77f1f",
   "metadata": {},
   "outputs": [],
   "source": [
    "# 요청 URL을 설정합니다.\n",
    "url = 'https://search.shopping.naver.com/catalog/29938164618'"
   ]
  },
  {
   "cell_type": "code",
   "execution_count": null,
   "id": "e5a911f0",
   "metadata": {},
   "outputs": [],
   "source": [
    "# 쿼리 스트링을 딕셔너리로 설정합니다.\n",
    "query = {'query': '스탠바이미'}"
   ]
  },
  {
   "cell_type": "code",
   "execution_count": null,
   "id": "6b1c0a55",
   "metadata": {},
   "outputs": [],
   "source": [
    "# HTTP 요청을 실행합니다.\n",
    "res = requests.get(url = url, params = query)"
   ]
  },
  {
   "cell_type": "markdown",
   "id": "76b9c6c2",
   "metadata": {},
   "source": [
    "### HTTP 응답 확인"
   ]
  },
  {
   "cell_type": "code",
   "execution_count": null,
   "id": "72ff5067",
   "metadata": {},
   "outputs": [],
   "source": [
    "# HTTP 응답 상태코드를 확인합니다.\n",
    "res.status_code"
   ]
  },
  {
   "cell_type": "code",
   "execution_count": null,
   "id": "f38ca4c4",
   "metadata": {},
   "outputs": [],
   "source": [
    "# HTTP 응답 헤더를 확인합니다.\n",
    "res.headers"
   ]
  },
  {
   "cell_type": "code",
   "execution_count": null,
   "id": "6e00e7ef",
   "metadata": {},
   "outputs": [],
   "source": [
    "# HTTP 요청 URL을 확인합니다.\n",
    "res.url"
   ]
  },
  {
   "cell_type": "code",
   "execution_count": null,
   "id": "1add10f9",
   "metadata": {},
   "outputs": [],
   "source": [
    "# HTTP 응답 바디(str)의 일부를 출력합니다.\n",
    "res.text[:1000]"
   ]
  },
  {
   "cell_type": "markdown",
   "id": "889f9e10",
   "metadata": {},
   "source": [
    "### HTML 파싱(Parsing)"
   ]
  },
  {
   "cell_type": "code",
   "execution_count": null,
   "id": "50b08052",
   "metadata": {},
   "outputs": [],
   "source": [
    "# 관련 라이브러리를 호출합니다.\n",
    "from bs4 import BeautifulSoup as bts"
   ]
  },
  {
   "cell_type": "code",
   "execution_count": null,
   "id": "4ba71544",
   "metadata": {},
   "outputs": [],
   "source": [
    "# 문자열(str)을 bs4.BeautifulSoup 자료형으로 변환합니다.\n",
    "soup = bts(markup = res.text, features = 'html.parser')"
   ]
  },
  {
   "cell_type": "code",
   "execution_count": null,
   "id": "282985c8",
   "metadata": {},
   "outputs": [],
   "source": [
    "# soup의 클래스를 확인합니다.\n",
    "type(soup)"
   ]
  },
  {
   "cell_type": "code",
   "execution_count": null,
   "id": "20afb1f8",
   "metadata": {},
   "outputs": [],
   "source": [
    "# soup을 출력합니다.\n",
    "soup"
   ]
  },
  {
   "cell_type": "markdown",
   "id": "482e2a70",
   "metadata": {},
   "source": [
    "### 리뷰 데이터 수집"
   ]
  },
  {
   "cell_type": "code",
   "execution_count": null,
   "id": "4f9b43cc",
   "metadata": {},
   "outputs": [],
   "source": [
    "# 고객 리뷰를 포함하는 HTML 요소를 선택하고 items에 할당합니다.\n",
    "items = soup.select(selector = '#section_review > ul > li')"
   ]
  },
  {
   "cell_type": "code",
   "execution_count": null,
   "id": "42740c1d",
   "metadata": {},
   "outputs": [],
   "source": [
    "# items의 길이를 확인합니다.\n",
    "len(items)"
   ]
  },
  {
   "cell_type": "code",
   "execution_count": null,
   "id": "021f588b",
   "metadata": {},
   "outputs": [],
   "source": [
    "# HTML 요소의 텍스트를 리스트로 반환하는 함수를 생성합니다.\n",
    "def getHtmlText(x, css):\n",
    "    return [i.select(selector = css)[0].text for i in x]"
   ]
  },
  {
   "cell_type": "code",
   "execution_count": null,
   "id": "c0dd22a6",
   "metadata": {},
   "outputs": [],
   "source": [
    "# 별점을 수집합니다.\n",
    "star = getHtmlText(x = items, css = 'div > span:nth-child(1)')\n",
    "print(star)"
   ]
  },
  {
   "cell_type": "code",
   "execution_count": null,
   "id": "aa322833",
   "metadata": {},
   "outputs": [],
   "source": [
    "# 온라인 쇼핑몰을 수집합니다.\n",
    "shop = getHtmlText(x = items, css = 'div > span:nth-child(2)')\n",
    "print(shop)"
   ]
  },
  {
   "cell_type": "code",
   "execution_count": null,
   "id": "4ed913e3",
   "metadata": {},
   "outputs": [],
   "source": [
    "# 리뷰 등록일자를 수집합니다.\n",
    "date = getHtmlText(x = items, css = 'div > span:nth-child(4)')\n",
    "print(date)"
   ]
  },
  {
   "cell_type": "code",
   "execution_count": null,
   "id": "26b2b75c",
   "metadata": {
    "scrolled": true
   },
   "outputs": [],
   "source": [
    "# 리뷰 내용을 수집합니다.\n",
    "text = getHtmlText(x = items, css = 'div > p')\n",
    "print(text)"
   ]
  },
  {
   "cell_type": "markdown",
   "id": "9d0b4daa",
   "metadata": {},
   "source": [
    "### 데이터프레임으로 저장"
   ]
  },
  {
   "cell_type": "code",
   "execution_count": null,
   "id": "1f42abb6",
   "metadata": {},
   "outputs": [],
   "source": [
    "# 관련 라이브러리를 호출합니다.\n",
    "import pandas as pd"
   ]
  },
  {
   "cell_type": "code",
   "execution_count": null,
   "id": "aa65a736",
   "metadata": {},
   "outputs": [],
   "source": [
    "# 데이터프레임을 생성합니다.\n",
    "df = pd.DataFrame(data = {'별점': star, '쇼핑몰': shop, '등록일': date, '리뷰': text})"
   ]
  },
  {
   "cell_type": "code",
   "execution_count": null,
   "id": "2c511203",
   "metadata": {},
   "outputs": [],
   "source": [
    "# df의 처음 5행을 출력합니다.\n",
    "df.head()"
   ]
  },
  {
   "cell_type": "markdown",
   "id": "43592159",
   "metadata": {},
   "source": [
    "### xlsx 파일로 저장"
   ]
  },
  {
   "cell_type": "code",
   "execution_count": null,
   "id": "7340d5ac",
   "metadata": {},
   "outputs": [],
   "source": [
    "# 관련 라이브러리를 호출합니다.\n",
    "import os"
   ]
  },
  {
   "cell_type": "code",
   "execution_count": null,
   "id": "4cc55769",
   "metadata": {},
   "outputs": [],
   "source": [
    "# 현재 작업 경로를 확인합니다.\n",
    "os.getcwd()"
   ]
  },
  {
   "cell_type": "code",
   "execution_count": null,
   "id": "7c47fd83",
   "metadata": {},
   "outputs": [],
   "source": [
    "# data 폴더로 작업 경로를 변경합니다.\n",
    "os.chdir(path = '../data')"
   ]
  },
  {
   "cell_type": "code",
   "execution_count": null,
   "id": "ca944364",
   "metadata": {},
   "outputs": [],
   "source": [
    "# xlsx 파일로 저장합니다.\n",
    "df.to_excel(excel_writer = 'Naver Shopping Review.xlsx', index = None)"
   ]
  },
  {
   "cell_type": "markdown",
   "id": "b5c2279e",
   "metadata": {},
   "source": [
    "## End of Document"
   ]
  }
 ],
 "metadata": {
  "kernelspec": {
   "display_name": "Python 3 (ipykernel)",
   "language": "python",
   "name": "python3"
  },
  "language_info": {
   "codemirror_mode": {
    "name": "ipython",
    "version": 3
   },
   "file_extension": ".py",
   "mimetype": "text/x-python",
   "name": "python",
   "nbconvert_exporter": "python",
   "pygments_lexer": "ipython3",
   "version": "3.10.3"
  },
  "varInspector": {
   "cols": {
    "lenName": 16,
    "lenType": 16,
    "lenVar": 40
   },
   "kernels_config": {
    "python": {
     "delete_cmd_postfix": "",
     "delete_cmd_prefix": "del ",
     "library": "var_list.py",
     "varRefreshCmd": "print(var_dic_list())"
    },
    "r": {
     "delete_cmd_postfix": ") ",
     "delete_cmd_prefix": "rm(",
     "library": "var_list.r",
     "varRefreshCmd": "cat(var_dic_list()) "
    }
   },
   "types_to_exclude": [
    "module",
    "function",
    "builtin_function_or_method",
    "instance",
    "_Feature"
   ],
   "window_display": false
  }
 },
 "nbformat": 4,
 "nbformat_minor": 5
}
