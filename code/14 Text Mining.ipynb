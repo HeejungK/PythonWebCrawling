{
 "cells": [
  {
   "cell_type": "markdown",
   "id": "departmental-construction",
   "metadata": {},
   "source": [
    "## 텍스트 마이닝"
   ]
  },
  {
   "cell_type": "markdown",
   "id": "7b42ee79",
   "metadata": {},
   "source": [
    "### 관련 라이브러리 호출"
   ]
  },
  {
   "cell_type": "raw",
   "id": "26e9b424",
   "metadata": {},
   "source": [
    "# kiwipiepy 라이브러리를 설치합니다.\n",
    "!pip install kiwipiepy"
   ]
  },
  {
   "cell_type": "code",
   "execution_count": null,
   "id": "e7ab87c5",
   "metadata": {},
   "outputs": [],
   "source": [
    "# 관련 라이브러리를 호출합니다.\n",
    "import os\n",
    "import pandas as pd\n",
    "from kiwipiepy import Kiwi\n",
    "import tqdm, joblib"
   ]
  },
  {
   "cell_type": "markdown",
   "id": "25a4e1bc",
   "metadata": {},
   "source": [
    "### 실습 데이터셋 준비"
   ]
  },
  {
   "cell_type": "code",
   "execution_count": null,
   "id": "059e6d5b",
   "metadata": {},
   "outputs": [],
   "source": [
    "# 현재 작업 경로를 확인합니다.\n",
    "os.getcwd()"
   ]
  },
  {
   "cell_type": "code",
   "execution_count": null,
   "id": "6414e346",
   "metadata": {},
   "outputs": [],
   "source": [
    "# data 폴더로 작업 경로를 변경합니다.\n",
    "os.chdir(path = '../data')"
   ]
  },
  {
   "cell_type": "code",
   "execution_count": null,
   "id": "intimate-guinea",
   "metadata": {},
   "outputs": [],
   "source": [
    "# 현재 작업 경로에 저장된 폴더명과 파일명을 출력합니다.\n",
    "os.listdir()"
   ]
  },
  {
   "cell_type": "code",
   "execution_count": null,
   "id": "violent-treaty",
   "metadata": {},
   "outputs": [],
   "source": [
    "# 네이버 블로그 xlsx 파일을 읽습니다.\n",
    "df = pd.read_excel(io = 'Naver Blog Contents.xlsx')"
   ]
  },
  {
   "cell_type": "code",
   "execution_count": null,
   "id": "8b3e15cb",
   "metadata": {},
   "outputs": [],
   "source": [
    "# df의 처음 5행만 출력합니다.\n",
    "df.head()"
   ]
  },
  {
   "cell_type": "code",
   "execution_count": null,
   "id": "3d2fdf5b",
   "metadata": {},
   "outputs": [],
   "source": [
    "# df의 정보를 확인합니다.\n",
    "df.info()"
   ]
  },
  {
   "cell_type": "markdown",
   "id": "prerequisite-supply",
   "metadata": {},
   "source": [
    "### 형태소 분석"
   ]
  },
  {
   "cell_type": "code",
   "execution_count": null,
   "id": "minute-battle",
   "metadata": {},
   "outputs": [],
   "source": [
    "# 한글 형태소 분석기를 설정합니다.\n",
    "kiwi = Kiwi()"
   ]
  },
  {
   "cell_type": "code",
   "execution_count": null,
   "id": "0bd2b666",
   "metadata": {},
   "outputs": [],
   "source": [
    "# 형태소 분석 예제 문장을 sen에 할당합니다.\n",
    "sen = '아버지가방에들어가신다.'"
   ]
  },
  {
   "cell_type": "code",
   "execution_count": null,
   "id": "67778711",
   "metadata": {},
   "outputs": [],
   "source": [
    "# 예제 문장을 형태소로 분석합니다.\n",
    "tokens = kiwi.tokenize(text = sen)\n",
    "tokens"
   ]
  },
  {
   "cell_type": "code",
   "execution_count": null,
   "id": "b2a6ed9d",
   "metadata": {},
   "outputs": [],
   "source": [
    "# 첫 번째 형태소를 선택합니다.\n",
    "tokens[0]"
   ]
  },
  {
   "cell_type": "code",
   "execution_count": null,
   "id": "3ed24b9c",
   "metadata": {},
   "outputs": [],
   "source": [
    "# 첫 번째 형태소에서 단어를 선택합니다.\n",
    "tokens[0].form"
   ]
  },
  {
   "cell_type": "code",
   "execution_count": null,
   "id": "fc31aec6",
   "metadata": {},
   "outputs": [],
   "source": [
    "# 첫 번째 형태소에서 품사를 선택합니다.\n",
    "tokens[0].tag"
   ]
  },
  {
   "cell_type": "code",
   "execution_count": null,
   "id": "98220a63",
   "metadata": {},
   "outputs": [],
   "source": [
    "# 반복문을 실행하여 일반명사 또는 고유명사인 단어만 출력합니다.\n",
    "for token in tokens:\n",
    "    if token.tag in ['NNG', 'NNP']:\n",
    "        print(token.form)"
   ]
  },
  {
   "cell_type": "code",
   "execution_count": null,
   "id": "2f7cc813",
   "metadata": {},
   "outputs": [],
   "source": [
    "# 리스트 컴프리헨션으로 반복문 실행 결과를 리스트로 반환합니다.\n",
    "[token.form for token in tokens if token.tag in ['NNG', 'NNP']]"
   ]
  },
  {
   "cell_type": "markdown",
   "id": "impaired-longitude",
   "metadata": {},
   "source": [
    "### 말뭉치(corpus) 생성"
   ]
  },
  {
   "cell_type": "code",
   "execution_count": null,
   "id": "10101790",
   "metadata": {},
   "outputs": [],
   "source": [
    "# 형태소 분석할 시리즈를 text에 할당합니다.\n",
    "text = df['contents']"
   ]
  },
  {
   "cell_type": "code",
   "execution_count": null,
   "id": "c6bf5c65",
   "metadata": {},
   "outputs": [],
   "source": [
    "# 반복 실행할 범위를 설정합니다.\n",
    "n = df.shape[0]"
   ]
  },
  {
   "cell_type": "code",
   "execution_count": null,
   "id": "d8fe7cda",
   "metadata": {},
   "outputs": [],
   "source": [
    "# 말뭉치를 저장할 빈 리스트를 생성합니다.\n",
    "corpus = list()"
   ]
  },
  {
   "cell_type": "code",
   "execution_count": null,
   "id": "sapphire-behalf",
   "metadata": {
    "scrolled": true
   },
   "outputs": [],
   "source": [
    "# 각 문서에서 형태소에 품사를 부착하고 일반명사와 고유명사만 선택하여 말뭉치에 추가합니다.\n",
    "for i in tqdm.tqdm_notebook(range(n)):\n",
    "        \n",
    "    # 형태소를 분석하고 품사를 부착합니다.\n",
    "    tokens = kiwi.tokenize(text = text.iloc[i])\n",
    "    \n",
    "    # 일반명사만 선택합니다.\n",
    "    parsed = [token.form for token in tokens if token.tag in ['NNG', 'NNP']]\n",
    "    \n",
    "    # 리스트를 문자열로 변환합니다.\n",
    "    parsed = ' '.join(parsed)\n",
    "        \n",
    "    # 말뭉치에 추가합니다.\n",
    "    corpus.append(parsed)"
   ]
  },
  {
   "cell_type": "code",
   "execution_count": null,
   "id": "f89acaa0",
   "metadata": {},
   "outputs": [],
   "source": [
    "# text의 첫 번째 원소를 출력합니다.\n",
    "text.iloc[0]"
   ]
  },
  {
   "cell_type": "code",
   "execution_count": null,
   "id": "interstate-broadway",
   "metadata": {},
   "outputs": [],
   "source": [
    "# 말뭉치의 첫 번째 원소를 출력합니다.\n",
    "corpus[0]"
   ]
  },
  {
   "cell_type": "markdown",
   "id": "6b443429",
   "metadata": {},
   "source": [
    "### 압축 파일로 저장"
   ]
  },
  {
   "cell_type": "code",
   "execution_count": null,
   "id": "5525c467",
   "metadata": {},
   "outputs": [],
   "source": [
    "# 말뭉치를 압축 파일로 저장합니다.\n",
    "joblib.dump(value = corpus, filename = 'Corpus.z')"
   ]
  },
  {
   "cell_type": "markdown",
   "id": "626e9e55",
   "metadata": {},
   "source": [
    "### n-gram 생성"
   ]
  },
  {
   "cell_type": "raw",
   "id": "20273d31",
   "metadata": {},
   "source": [
    "# nltk 라이브러리를 설치합니다.\n",
    "!pip install nltk"
   ]
  },
  {
   "cell_type": "code",
   "execution_count": null,
   "id": "e5cf4e46",
   "metadata": {},
   "outputs": [],
   "source": [
    "# 관련 라이브러리를 호출합니다.\n",
    "from nltk import ngrams"
   ]
  },
  {
   "cell_type": "code",
   "execution_count": null,
   "id": "eaf400c7",
   "metadata": {},
   "outputs": [],
   "source": [
    "# 말뭉치의 첫 번째 원소로 bi-gram을 생성합니다.\n",
    "bis = ngrams(sequence = corpus[0].split(), n = 2)"
   ]
  },
  {
   "cell_type": "code",
   "execution_count": null,
   "id": "002bef05",
   "metadata": {},
   "outputs": [],
   "source": [
    "# 리스트 컴프리헨션을 이용하여 bi-gram을 리스트로 변환합니다.\n",
    "[bi for bi in bis]"
   ]
  },
  {
   "cell_type": "code",
   "execution_count": null,
   "id": "b4be7041",
   "metadata": {},
   "outputs": [],
   "source": [
    "# 반복문을 실행하기 전에 결과를 저장할 빈 리스트를 생성합니다.\n",
    "ngram = list()"
   ]
  },
  {
   "cell_type": "code",
   "execution_count": null,
   "id": "monthly-gossip",
   "metadata": {},
   "outputs": [],
   "source": [
    "# bi-gram을 생성합니다.\n",
    "for i in corpus:\n",
    "    bis = ngrams(sequence = i.split(), n = 2)\n",
    "    ngram.extend([bi for bi in bis])"
   ]
  },
  {
   "cell_type": "code",
   "execution_count": null,
   "id": "00ee73a5",
   "metadata": {},
   "outputs": [],
   "source": [
    "# ngram을 시리즈로 변환합니다.\n",
    "ngram = pd.Series(data = ngram)\n",
    "ngram"
   ]
  },
  {
   "cell_type": "code",
   "execution_count": null,
   "id": "hispanic-cherry",
   "metadata": {
    "scrolled": true
   },
   "outputs": [],
   "source": [
    "# ngram의 빈도수를 계산하고 상위 10개만 출력합니다.\n",
    "ngram.value_counts().sort_values(ascending = False).head(n = 10)"
   ]
  },
  {
   "cell_type": "code",
   "execution_count": null,
   "id": "5f39429e",
   "metadata": {},
   "outputs": [],
   "source": [
    "# 하나로 결합할 단어 목록을 리스트로 생성합니다.\n",
    "bigram = ['스탠바이 미', '미러 링', '디즈니 플러스']"
   ]
  },
  {
   "cell_type": "code",
   "execution_count": null,
   "id": "6ce0b41a",
   "metadata": {},
   "outputs": [],
   "source": [
    "# 변경 전 단어를 넣으면 말뭉치에서 공백 제거하는 함수를 생성합니다.\n",
    "def bigram_replace(corpus, word):\n",
    "    before = word\n",
    "    after = word.replace(' ', '')\n",
    "    corpus = [i.replace(before, after) for i in corpus]\n",
    "    return corpus"
   ]
  },
  {
   "cell_type": "code",
   "execution_count": null,
   "id": "85a73a4d",
   "metadata": {},
   "outputs": [],
   "source": [
    "# 두 단어를 하나로 결합합니다.\n",
    "for i in tqdm.tqdm_notebook(bigram):\n",
    "    corpus = bigram_replace(corpus, i)"
   ]
  },
  {
   "cell_type": "code",
   "execution_count": null,
   "id": "2e40389a",
   "metadata": {},
   "outputs": [],
   "source": [
    "# 말뭉치에서 첫 번째 원소를 출력합니다.\n",
    "corpus[0]"
   ]
  },
  {
   "cell_type": "markdown",
   "id": "48d222b6",
   "metadata": {},
   "source": [
    "### 문서-단어 행렬(DTM) 생성: Bag of Words"
   ]
  },
  {
   "cell_type": "code",
   "execution_count": null,
   "id": "ea0a39d7",
   "metadata": {},
   "outputs": [],
   "source": [
    "# 관련 라이브러리를 호출합니다.\n",
    "from sklearn.feature_extraction.text import CountVectorizer"
   ]
  },
  {
   "cell_type": "code",
   "execution_count": null,
   "id": "1672dc5e",
   "metadata": {},
   "outputs": [],
   "source": [
    "# cv 객체를 생성합니다.\n",
    "cv = CountVectorizer()"
   ]
  },
  {
   "cell_type": "code",
   "execution_count": null,
   "id": "c74a30de",
   "metadata": {},
   "outputs": [],
   "source": [
    "# 문서에 포함된 단어 빈도수로 배열을 생성합니다.\n",
    "dtm = cv.fit_transform(raw_documents = corpus).toarray()"
   ]
  },
  {
   "cell_type": "code",
   "execution_count": null,
   "id": "dbe11dca",
   "metadata": {},
   "outputs": [],
   "source": [
    "# dtm에서 열이름인 단어 목록을 생성합니다.\n",
    "feat_names = cv.get_feature_names_out()"
   ]
  },
  {
   "cell_type": "code",
   "execution_count": null,
   "id": "e262c73a",
   "metadata": {},
   "outputs": [],
   "source": [
    "# dtm을 데이터프레임으로 변환합니다.\n",
    "dtm = pd.DataFrame(data = dtm, columns = feat_names)"
   ]
  },
  {
   "cell_type": "code",
   "execution_count": null,
   "id": "9b0f43e6",
   "metadata": {},
   "outputs": [],
   "source": [
    "# dtm의 처음 5행을 출력합니다.\n",
    "dtm.head()"
   ]
  },
  {
   "cell_type": "code",
   "execution_count": null,
   "id": "85e7ce39",
   "metadata": {},
   "outputs": [],
   "source": [
    "# 단어별로 0의 비중(백분율)을 출력합니다.\n",
    "sparse = (dtm == 0).mean()\n",
    "sparse"
   ]
  },
  {
   "cell_type": "code",
   "execution_count": null,
   "id": "e3c2584d",
   "metadata": {},
   "outputs": [],
   "source": [
    "# sparse가 95% 이상인 희박한(sparse) 단어 개수를 확인합니다.\n",
    "(sparse >= 0.95).sum()"
   ]
  },
  {
   "cell_type": "code",
   "execution_count": null,
   "id": "56641bd8",
   "metadata": {},
   "outputs": [],
   "source": [
    "# dtm에서 희박한 단어를 삭제합니다.\n",
    "dtm = dtm.loc[:, ~(sparse >= 0.95)]"
   ]
  },
  {
   "cell_type": "code",
   "execution_count": null,
   "id": "cb259de8",
   "metadata": {},
   "outputs": [],
   "source": [
    "# dtm의 처음 5행을 출력합니다.\n",
    "dtm.head()"
   ]
  },
  {
   "cell_type": "code",
   "execution_count": null,
   "id": "11296bf2",
   "metadata": {},
   "outputs": [],
   "source": [
    "# dtm을 압축파일로 저장합니다.\n",
    "joblib.dump(value = dtm, filename = 'DTM.z')"
   ]
  },
  {
   "cell_type": "markdown",
   "id": "6dab0c96",
   "metadata": {},
   "source": [
    "### 고빈도 단어 확인"
   ]
  },
  {
   "cell_type": "code",
   "execution_count": null,
   "id": "468c2103",
   "metadata": {},
   "outputs": [],
   "source": [
    "# 단어별 빈도수를 내림차순으로 정렬하고 상위 10개만 출력합니다.\n",
    "dtm.sum().sort_values(ascending = False).head(n = 10)"
   ]
  },
  {
   "cell_type": "markdown",
   "id": "3825c5d4",
   "metadata": {},
   "source": [
    "### 시각화 옵션 및 한글 폰트 설정"
   ]
  },
  {
   "cell_type": "code",
   "execution_count": null,
   "id": "2b138321",
   "metadata": {},
   "outputs": [],
   "source": [
    "# 관련 라이브러리를 호출합니다.\n",
    "import matplotlib.font_manager as fm\n",
    "import matplotlib.pyplot as plt\n",
    "import seaborn as sns"
   ]
  },
  {
   "cell_type": "code",
   "execution_count": null,
   "id": "87504abb",
   "metadata": {},
   "outputs": [],
   "source": [
    "# 그래프 크기와 해상도를 설정합니다.\n",
    "plt.rc(group = 'figure', figsize = (6, 6), dpi = 100)"
   ]
  },
  {
   "cell_type": "code",
   "execution_count": null,
   "id": "74c6275d",
   "metadata": {},
   "outputs": [],
   "source": [
    "# 한글 폰트에 없는 마이너스 기호를 축에서 제거합니다.\n",
    "plt.rc(group = 'axes', unicode_minus = False)"
   ]
  },
  {
   "cell_type": "code",
   "execution_count": null,
   "id": "b5257523",
   "metadata": {},
   "outputs": [],
   "source": [
    "# 컴퓨터에 설치된 폰트 목록을 리스트로 생성합니다.\n",
    "fontList = fm.findSystemFonts(fontext = 'ttf')\n",
    "fontList"
   ]
  },
  {
   "cell_type": "code",
   "execution_count": null,
   "id": "5559c0d2",
   "metadata": {},
   "outputs": [],
   "source": [
    "# 원하는 폰트 경로를 원소로 갖는 리스트를 생성합니다.\n",
    "fontPath = [font for font in fontList if 'Gamja' in font]\n",
    "fontPath"
   ]
  },
  {
   "cell_type": "code",
   "execution_count": null,
   "id": "7f01c89d",
   "metadata": {},
   "outputs": [],
   "source": [
    "# 한글 폰트명을 출력합니다.\n",
    "fm.FontProperties(fname = fontPath[0]).get_name()"
   ]
  },
  {
   "cell_type": "code",
   "execution_count": null,
   "id": "66282e61",
   "metadata": {},
   "outputs": [],
   "source": [
    "# 한글 폰트를 설정합니다.\n",
    "plt.rc(group = 'font', family = 'Gamja Flower', size = 10)"
   ]
  },
  {
   "cell_type": "markdown",
   "id": "2c4f4e73",
   "metadata": {},
   "source": [
    "### 워드 클라우드 시각화"
   ]
  },
  {
   "cell_type": "raw",
   "id": "de70d424",
   "metadata": {},
   "source": [
    "# wordcloud 라이브러리를 설치합니다.\n",
    "!pip install wordcloud"
   ]
  },
  {
   "cell_type": "code",
   "execution_count": null,
   "id": "0a851587",
   "metadata": {},
   "outputs": [],
   "source": [
    "# 관련 라이브러리를 호출합니다.\n",
    "from wordcloud import WordCloud"
   ]
  },
  {
   "cell_type": "code",
   "execution_count": null,
   "id": "2ac92478",
   "metadata": {},
   "outputs": [],
   "source": [
    "# 빈 딕셔너리를 생성합니다.\n",
    "freq = dict()"
   ]
  },
  {
   "cell_type": "code",
   "execution_count": null,
   "id": "3f2ee517",
   "metadata": {},
   "outputs": [],
   "source": [
    "# 워드 클라우드 시각화용 딕셔너리를 생성합니다.\n",
    "for word in tqdm.tqdm_notebook(dtm.columns):\n",
    "    freq[word] = dtm[word].sum()"
   ]
  },
  {
   "cell_type": "code",
   "execution_count": null,
   "id": "ae34f58f",
   "metadata": {},
   "outputs": [],
   "source": [
    "# 딕셔너리를 출력합니다.\n",
    "freq"
   ]
  },
  {
   "cell_type": "code",
   "execution_count": null,
   "id": "84294c89",
   "metadata": {},
   "outputs": [],
   "source": [
    "# 워드 클라우드 객체를 생성합니다.\n",
    "wc = WordCloud(\n",
    "    font_path = fontPath[0],\n",
    "    width = 800, \n",
    "    height = 800, \n",
    "    background_color = 'black', \n",
    "    colormap = 'Dark2'\n",
    ")"
   ]
  },
  {
   "cell_type": "code",
   "execution_count": null,
   "id": "54573412",
   "metadata": {},
   "outputs": [],
   "source": [
    "# 워드 클라우드를 시각화합니다.\n",
    "wcgf = wc.generate_from_frequencies(frequencies = freq)\n",
    "plt.imshow(X = wcgf)\n",
    "plt.axis('off')\n",
    "plt.show()"
   ]
  },
  {
   "cell_type": "markdown",
   "id": "bacc666b",
   "metadata": {},
   "source": [
    "### 연관 단어 분석"
   ]
  },
  {
   "cell_type": "code",
   "execution_count": null,
   "id": "66dd3b5b",
   "metadata": {},
   "outputs": [],
   "source": [
    "# 단어 간 상관계수 행렬을 생성합니다.\n",
    "corMat = dtm.corr().round(4)\n",
    "corMat"
   ]
  },
  {
   "cell_type": "code",
   "execution_count": null,
   "id": "a9cd52b1",
   "metadata": {},
   "outputs": [],
   "source": [
    "# 키워드와 상관계수가 높은 10개의 연관 단어를 출력합니다.\n",
    "assocs = corMat['고민'].sort_values(ascending = False).head(n = 10)\n",
    "assocs"
   ]
  },
  {
   "cell_type": "code",
   "execution_count": null,
   "id": "cfe10357",
   "metadata": {},
   "outputs": [],
   "source": [
    "# 키워드 연관 단어로 막대그래프를 그립니다.\n",
    "sns.barplot(x = assocs.index, y = assocs, palette = 'Blues_r')\n",
    "plt.title(label = '연관 단어 목록');"
   ]
  },
  {
   "cell_type": "markdown",
   "id": "7ba299d6",
   "metadata": {},
   "source": [
    "### End of Document"
   ]
  }
 ],
 "metadata": {
  "kernelspec": {
   "display_name": "Python 3 (ipykernel)",
   "language": "python",
   "name": "python3"
  },
  "language_info": {
   "codemirror_mode": {
    "name": "ipython",
    "version": 3
   },
   "file_extension": ".py",
   "mimetype": "text/x-python",
   "name": "python",
   "nbconvert_exporter": "python",
   "pygments_lexer": "ipython3",
   "version": "3.10.3"
  },
  "toc": {
   "base_numbering": 1,
   "nav_menu": {},
   "number_sections": true,
   "sideBar": true,
   "skip_h1_title": false,
   "title_cell": "Table of Contents",
   "title_sidebar": "Contents",
   "toc_cell": false,
   "toc_position": {},
   "toc_section_display": true,
   "toc_window_display": false
  },
  "varInspector": {
   "cols": {
    "lenName": 16,
    "lenType": 16,
    "lenVar": 40
   },
   "kernels_config": {
    "python": {
     "delete_cmd_postfix": "",
     "delete_cmd_prefix": "del ",
     "library": "var_list.py",
     "varRefreshCmd": "print(var_dic_list())"
    },
    "r": {
     "delete_cmd_postfix": ") ",
     "delete_cmd_prefix": "rm(",
     "library": "var_list.r",
     "varRefreshCmd": "cat(var_dic_list()) "
    }
   },
   "types_to_exclude": [
    "module",
    "function",
    "builtin_function_or_method",
    "instance",
    "_Feature"
   ],
   "window_display": false
  }
 },
 "nbformat": 4,
 "nbformat_minor": 5
}
