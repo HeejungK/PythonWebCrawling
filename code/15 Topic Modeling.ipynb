{
 "cells": [
  {
   "cell_type": "markdown",
   "id": "departmental-construction",
   "metadata": {},
   "source": [
    "## 토픽 모델링"
   ]
  },
  {
   "cell_type": "markdown",
   "id": "942c53bb",
   "metadata": {},
   "source": [
    "### 관련 라이브러리 호출"
   ]
  },
  {
   "cell_type": "raw",
   "id": "d908900d",
   "metadata": {},
   "source": [
    "# gensim 라이브러리를 설치합니다.\n",
    "!pip install gensim"
   ]
  },
  {
   "cell_type": "code",
   "execution_count": null,
   "id": "10c0654a",
   "metadata": {},
   "outputs": [],
   "source": [
    "# 관련 라이브러리를 호출합니다.\n",
    "import os, joblib\n",
    "from gensim import corpora \n",
    "from gensim import models\n",
    "from gensim.models import CoherenceModel"
   ]
  },
  {
   "cell_type": "markdown",
   "id": "d8f8250d",
   "metadata": {},
   "source": [
    "### 실습 데이터셋 준비"
   ]
  },
  {
   "cell_type": "code",
   "execution_count": null,
   "id": "b5530564",
   "metadata": {},
   "outputs": [],
   "source": [
    "# 현재 작업 경로를 확인합니다.\n",
    "os.getcwd()"
   ]
  },
  {
   "cell_type": "code",
   "execution_count": null,
   "id": "739f5a7c",
   "metadata": {},
   "outputs": [],
   "source": [
    "# data 폴더로 작업 경로를 변경합니다.\n",
    "os.chdir(path = '../data')"
   ]
  },
  {
   "cell_type": "code",
   "execution_count": null,
   "id": "6d375a1d",
   "metadata": {},
   "outputs": [],
   "source": [
    "# 현재 작업 경로에 저장된 폴더명과 파일명을 출력합니다.\n",
    "os.listdir()"
   ]
  },
  {
   "cell_type": "code",
   "execution_count": null,
   "id": "1949adf5",
   "metadata": {},
   "outputs": [],
   "source": [
    "# 말뭉치 압축파일을 호출합니다.\n",
    "corpus = joblib.load(filename = 'Corpus.z')"
   ]
  },
  {
   "cell_type": "code",
   "execution_count": null,
   "id": "6ac596e3",
   "metadata": {},
   "outputs": [],
   "source": [
    "# 문서-단어 행렬 압축파일을 호출합니다.\n",
    "dtm = joblib.load(filename = 'DTM.z')"
   ]
  },
  {
   "cell_type": "code",
   "execution_count": null,
   "id": "32db305e",
   "metadata": {},
   "outputs": [],
   "source": [
    "# DTM 단어 목록을 terms에 할당합니다.\n",
    "terms = dtm.columns"
   ]
  },
  {
   "cell_type": "code",
   "execution_count": null,
   "id": "02340437",
   "metadata": {},
   "outputs": [],
   "source": [
    "# corpus에서 DTM 단어 목록에 있는 단어만 남깁니다.\n",
    "corpus = [' '.join([i for i in c.split() if i in terms]) for c in corpus]"
   ]
  },
  {
   "cell_type": "markdown",
   "id": "488a8064",
   "metadata": {},
   "source": [
    "### LDA 모형 생성"
   ]
  },
  {
   "cell_type": "code",
   "execution_count": null,
   "id": "58398b8e",
   "metadata": {},
   "outputs": [],
   "source": [
    "# 말뭉치를 공백 기준으로 분리하여 LDA용 문서 리스트를 생성합니다.\n",
    "docs = [i.split() for i in corpus]"
   ]
  },
  {
   "cell_type": "code",
   "execution_count": null,
   "id": "af889ee7",
   "metadata": {},
   "outputs": [],
   "source": [
    "# LDA용 문서 리스트로 사전을 생성합니다.\n",
    "dctn = corpora.Dictionary(documents = docs)"
   ]
  },
  {
   "cell_type": "code",
   "execution_count": null,
   "id": "bfa2fa45",
   "metadata": {},
   "outputs": [],
   "source": [
    "# 사전에 포함된 단어 개수를 확인합니다.\n",
    "len(dctn)"
   ]
  },
  {
   "cell_type": "code",
   "execution_count": null,
   "id": "bea5d735",
   "metadata": {},
   "outputs": [],
   "source": [
    "# 사전으로 LDA용 말뭉치를 생성합니다.\n",
    "corpus4LDA = [dctn.doc2bow(document = doc) for doc in docs]"
   ]
  },
  {
   "cell_type": "code",
   "execution_count": null,
   "id": "1a6e7b8f",
   "metadata": {},
   "outputs": [],
   "source": [
    "# 토픽 개수를 설정합니다.\n",
    "topic_nums = 3"
   ]
  },
  {
   "cell_type": "code",
   "execution_count": null,
   "id": "0cd6addd",
   "metadata": {},
   "outputs": [],
   "source": [
    "# LDA 모형을 생성합니다.\n",
    "LDAmodel = models.ldamodel.LdaModel(\n",
    "    corpus = corpus4LDA, \n",
    "    num_topics = 3, \n",
    "    id2word = dctn, \n",
    "    random_state = 0\n",
    ")"
   ]
  },
  {
   "cell_type": "code",
   "execution_count": null,
   "id": "880f6a5b",
   "metadata": {},
   "outputs": [],
   "source": [
    "# LDA용 말뭉치 길이(문서 개수)를 n에 할당합니다.\n",
    "n = len(corpus4LDA)"
   ]
  },
  {
   "cell_type": "code",
   "execution_count": null,
   "id": "329738b1",
   "metadata": {
    "scrolled": true
   },
   "outputs": [],
   "source": [
    "# 문서의 토픽 비중을 출력합니다.\n",
    "for i in range(n):\n",
    "    print(LDAmodel.get_document_topics(bow = corpus4LDA[i]))"
   ]
  },
  {
   "cell_type": "code",
   "execution_count": null,
   "id": "eb2433eb",
   "metadata": {},
   "outputs": [],
   "source": [
    "# 토픽의 단어 비중을 출력합니다.\n",
    "LDAmodel.get_topics()"
   ]
  },
  {
   "cell_type": "code",
   "execution_count": null,
   "id": "1262e321",
   "metadata": {},
   "outputs": [],
   "source": [
    "# 첫 번째 토픽의 확률 상위 10개 단어를 출력합니다.\n",
    "topicTerms = LDAmodel.get_topic_terms(topicid = 0, topn = 10)\n",
    "topicTerms"
   ]
  },
  {
   "cell_type": "code",
   "execution_count": null,
   "id": "2e0073fb",
   "metadata": {},
   "outputs": [],
   "source": [
    "# 사전에 있는 단어로 변경하여 출력합니다.\n",
    "[(dctn[term], prob) for term, prob in topicTerms]"
   ]
  },
  {
   "cell_type": "markdown",
   "id": "4034c8ec",
   "metadata": {},
   "source": [
    "### LDA 시각화"
   ]
  },
  {
   "cell_type": "raw",
   "id": "c58e6f02",
   "metadata": {},
   "source": [
    "# pyLDAvis 라이브러리를 설치합니다.\n",
    "!pip install pyldavis"
   ]
  },
  {
   "cell_type": "code",
   "execution_count": null,
   "id": "07111a3b",
   "metadata": {},
   "outputs": [],
   "source": [
    "# 관련 라이브러리를 호출합니다.\n",
    "import pyLDAvis.gensim_models"
   ]
  },
  {
   "cell_type": "code",
   "execution_count": null,
   "id": "b60d5c69",
   "metadata": {},
   "outputs": [],
   "source": [
    "# 주피터 노트북에서 시각화할 수 있도록 설정합니다.\n",
    "pyLDAvis.enable_notebook()"
   ]
  },
  {
   "cell_type": "code",
   "execution_count": null,
   "id": "49f3eb10",
   "metadata": {},
   "outputs": [],
   "source": [
    "# LDA 시각화 객체를 생성합니다.\n",
    "LDAvis = pyLDAvis.gensim_models.prepare(\n",
    "    topic_model = LDAmodel, \n",
    "    corpus = corpus4LDA, \n",
    "    dictionary = dctn\n",
    ")"
   ]
  },
  {
   "cell_type": "code",
   "execution_count": null,
   "id": "2f2aa3a6",
   "metadata": {},
   "outputs": [],
   "source": [
    "# LDA 모형을 시각화합니다.\n",
    "pyLDAvis.display(data = LDAvis)"
   ]
  },
  {
   "cell_type": "markdown",
   "id": "7ba299d6",
   "metadata": {},
   "source": [
    "### End of Document"
   ]
  }
 ],
 "metadata": {
  "kernelspec": {
   "display_name": "Python 3 (ipykernel)",
   "language": "python",
   "name": "python3"
  },
  "language_info": {
   "codemirror_mode": {
    "name": "ipython",
    "version": 3
   },
   "file_extension": ".py",
   "mimetype": "text/x-python",
   "name": "python",
   "nbconvert_exporter": "python",
   "pygments_lexer": "ipython3",
   "version": "3.10.3"
  },
  "toc": {
   "base_numbering": 1,
   "nav_menu": {},
   "number_sections": true,
   "sideBar": true,
   "skip_h1_title": false,
   "title_cell": "Table of Contents",
   "title_sidebar": "Contents",
   "toc_cell": false,
   "toc_position": {},
   "toc_section_display": true,
   "toc_window_display": false
  },
  "varInspector": {
   "cols": {
    "lenName": 16,
    "lenType": 16,
    "lenVar": 40
   },
   "kernels_config": {
    "python": {
     "delete_cmd_postfix": "",
     "delete_cmd_prefix": "del ",
     "library": "var_list.py",
     "varRefreshCmd": "print(var_dic_list())"
    },
    "r": {
     "delete_cmd_postfix": ") ",
     "delete_cmd_prefix": "rm(",
     "library": "var_list.r",
     "varRefreshCmd": "cat(var_dic_list()) "
    }
   },
   "types_to_exclude": [
    "module",
    "function",
    "builtin_function_or_method",
    "instance",
    "_Feature"
   ],
   "window_display": false
  }
 },
 "nbformat": 4,
 "nbformat_minor": 5
}
