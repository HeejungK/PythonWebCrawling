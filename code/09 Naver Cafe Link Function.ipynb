{
 "cells": [
  {
   "cell_type": "markdown",
   "metadata": {},
   "source": [
    "## 네이버 카페에서 검색어로 링크 수집 (여러 페이지) "
   ]
  },
  {
   "cell_type": "markdown",
   "metadata": {},
   "source": [
    "### 네이버 카페에서 검색어로 링크 수집하는 함수 생성"
   ]
  },
  {
   "cell_type": "code",
   "execution_count": null,
   "metadata": {},
   "outputs": [],
   "source": [
    "# 관련 라이브러리를 호출합니다.\n",
    "import requests\n",
    "import json\n",
    "import pandas as pd\n",
    "import os, tqdm, time\n",
    "\n",
    "# 네이버 카페 검색 결과 데이터프레임을 반환하는 함수를 생성합니다.\n",
    "def getCafeDf(searchWord, bgnDate, endDate, page = 1):\n",
    "    \n",
    "    # 요청 URL을 설정합니다.\n",
    "    url = 'https://apis.naver.com/cafe-home-web/cafe-home/v1/search/articles'\n",
    "    \n",
    "    # Post 바디를 딕셔너리로 설정합니다.\n",
    "    body = {\n",
    "        'exceptMarketArticle': 1,\n",
    "        'page': page,\n",
    "        'period': [bgnDate, endDate], \n",
    "        'query': searchWord,\n",
    "        'sortBy': 0\n",
    "    }\n",
    "    \n",
    "    # 요청 헤더를 딕셔너리로 설정합니다\n",
    "    headers = {\n",
    "        'content-type': 'application/json;charset=UTF-8',\n",
    "        'referer': 'https://section.cafe.naver.com/ca-fe/home/search/articles',\n",
    "        'user-agent': 'Mozilla/5.0 Chrome/99.0.4844.83 Safari/537.36'\n",
    "    }\n",
    "    \n",
    "    # HTTP 요청을 실행합니다. \n",
    "    res = requests.post(url = url, json = body, headers = headers)\n",
    "    \n",
    "    # HTTP 응답 상태코드가 정상이면 데이터를 수집합니다.\n",
    "    if res.status_code == 200:\n",
    "        \n",
    "        # HTTP 응답 바디를 딕셔너리로 변환합니다. \n",
    "        data = json.loads(s = res.text)\n",
    "        \n",
    "        # data에서 검색 결과 개수를 totalCnt에 할당합니다.\n",
    "        totalCnt = data['message']['result']['totalCount']\n",
    "        \n",
    "        # totalCnt가 1 이상이면 데이터프레임을 생성합니다.\n",
    "        if totalCnt >= 1:\n",
    "            \n",
    "            # data['result']에서 검색 결과 데이터를 데이터프레임으로 변환합니다.\n",
    "            df = pd.DataFrame(data = data['message']['result']['searchResultArticle']['searchResult'])\n",
    "            \n",
    "            # 필요한 열이름만 선택합니다.\n",
    "            cols = ['articleid', 'clubid', 'clubname', 'rawWriteDate', 'subject']\n",
    "            df = df[cols]\n",
    "            \n",
    "            # articleid와 clubid를 문자열로 변환합니다.\n",
    "            df['articleid'] = df['articleid'].astype('str')\n",
    "            df['clubid'] = df['clubid'].astype('str')\n",
    "            \n",
    "            # rawWriteDate를 날짜 데이터로 변환합니다.\n",
    "            df['rawWriteDate'] = pd.to_datetime(arg = df['rawWriteDate'], format = '%Y%m%d%H%M')\n",
    "            \n",
    "            # df를 반환합니다.\n",
    "            return df\n",
    "        \n",
    "        # totalCnt가 0이면 NULL을 반환합니다.\n",
    "        else:\n",
    "            \n",
    "            # None을 반환합니다.\n",
    "            return None\n",
    "    \n",
    "    # HTTP 응답 상태코드가 정상이 아니면 에러 메시지를 반환합니다.\n",
    "    else:\n",
    "        \n",
    "        print('HTTP 응답 상태코드는 200이 아닙니다!')\n",
    "        "
   ]
  },
  {
   "cell_type": "code",
   "execution_count": null,
   "metadata": {},
   "outputs": [],
   "source": [
    "# 2 페이지로 테스트합니다.\n",
    "test = getCafeDf(\n",
    "    searchWord = '스탠바이미', \n",
    "    bgnDate = '20220401', \n",
    "    endDate = '20220405', \n",
    "    page = 2\n",
    ")"
   ]
  },
  {
   "cell_type": "code",
   "execution_count": null,
   "metadata": {},
   "outputs": [],
   "source": [
    "# test를 확인합니다.\n",
    "test"
   ]
  },
  {
   "cell_type": "markdown",
   "metadata": {},
   "source": [
    "### for 반복문 실행"
   ]
  },
  {
   "cell_type": "code",
   "execution_count": null,
   "metadata": {},
   "outputs": [],
   "source": [
    "# 최종 결과를 저장할 빈 데이터프레임을 생성합니다.\n",
    "cafe = pd.DataFrame()"
   ]
  },
  {
   "cell_type": "code",
   "execution_count": null,
   "metadata": {},
   "outputs": [],
   "source": [
    "# for 반복문을 실행하여 5 페이지까지 수집합니다.\n",
    "for i in tqdm.tqdm_notebook(range(5)):\n",
    "    \n",
    "    # 지정된 페이지의 데이터프레임을 수집합니다.\n",
    "    df = getCafeDf(\n",
    "        searchWord = '스탠바이미', \n",
    "        bgnDate = '20220401', \n",
    "        endDate = '20220405', \n",
    "        page = i + 1\n",
    "    )\n",
    "    \n",
    "    # cafe에 df를 추가합니다.\n",
    "    cafe = pd.concat(objs = [cafe, df])\n",
    "    \n",
    "    # 1초간 멈춥니다.\n",
    "    time.sleep(1)"
   ]
  },
  {
   "cell_type": "code",
   "execution_count": null,
   "metadata": {},
   "outputs": [],
   "source": [
    "# cafe의 처음 5행을 출력합니다.\n",
    "cafe.head()"
   ]
  },
  {
   "cell_type": "code",
   "execution_count": null,
   "metadata": {},
   "outputs": [],
   "source": [
    "# cafe의 정보를 확인합니다.\n",
    "cafe.info()"
   ]
  },
  {
   "cell_type": "markdown",
   "metadata": {},
   "source": [
    "### xlsx 파일로 저장"
   ]
  },
  {
   "cell_type": "code",
   "execution_count": null,
   "metadata": {},
   "outputs": [],
   "source": [
    "# 현재 작업경로를 확인합니다.\n",
    "os.getcwd()"
   ]
  },
  {
   "cell_type": "code",
   "execution_count": null,
   "metadata": {},
   "outputs": [],
   "source": [
    "# data 폴더로 작업경로를 변경합니다.\n",
    "os.chdir(path = '../data')"
   ]
  },
  {
   "cell_type": "code",
   "execution_count": null,
   "metadata": {},
   "outputs": [],
   "source": [
    "# xlsx 파일명을 설정합니다.\n",
    "fileName = 'Naver Cafe Links.xlsx'"
   ]
  },
  {
   "cell_type": "code",
   "execution_count": null,
   "metadata": {},
   "outputs": [],
   "source": [
    "# xlsx 파일로 저장합니다.\n",
    "cafe.to_excel(excel_writer = fileName, index = None)"
   ]
  },
  {
   "cell_type": "markdown",
   "metadata": {},
   "source": [
    "## End of Document"
   ]
  }
 ],
 "metadata": {
  "kernelspec": {
   "display_name": "Python 3 (ipykernel)",
   "language": "python",
   "name": "python3"
  },
  "language_info": {
   "codemirror_mode": {
    "name": "ipython",
    "version": 3
   },
   "file_extension": ".py",
   "mimetype": "text/x-python",
   "name": "python",
   "nbconvert_exporter": "python",
   "pygments_lexer": "ipython3",
   "version": "3.10.3"
  },
  "toc": {
   "base_numbering": 1,
   "nav_menu": {},
   "number_sections": true,
   "sideBar": true,
   "skip_h1_title": false,
   "title_cell": "Table of Contents",
   "title_sidebar": "Contents",
   "toc_cell": false,
   "toc_position": {},
   "toc_section_display": true,
   "toc_window_display": false
  },
  "varInspector": {
   "cols": {
    "lenName": 16,
    "lenType": 16,
    "lenVar": 40
   },
   "kernels_config": {
    "python": {
     "delete_cmd_postfix": "",
     "delete_cmd_prefix": "del ",
     "library": "var_list.py",
     "varRefreshCmd": "print(var_dic_list())"
    },
    "r": {
     "delete_cmd_postfix": ") ",
     "delete_cmd_prefix": "rm(",
     "library": "var_list.r",
     "varRefreshCmd": "cat(var_dic_list()) "
    }
   },
   "types_to_exclude": [
    "module",
    "function",
    "builtin_function_or_method",
    "instance",
    "_Feature"
   ],
   "window_display": false
  }
 },
 "nbformat": 4,
 "nbformat_minor": 4
}
